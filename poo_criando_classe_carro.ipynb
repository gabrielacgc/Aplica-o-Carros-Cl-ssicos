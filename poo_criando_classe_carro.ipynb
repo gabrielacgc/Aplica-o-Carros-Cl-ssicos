{
  "nbformat": 4,
  "nbformat_minor": 0,
  "metadata": {
    "colab": {
      "provenance": [],
      "authorship_tag": "ABX9TyNQLQ1KbKr5kUezM6xd50/Z",
      "include_colab_link": true
    },
    "kernelspec": {
      "name": "python3",
      "display_name": "Python 3"
    },
    "language_info": {
      "name": "python"
    }
  },
  "cells": [
    {
      "cell_type": "markdown",
      "metadata": {
        "id": "view-in-github",
        "colab_type": "text"
      },
      "source": [
        "<a href=\"https://colab.research.google.com/github/gabrielacgc/Aplica-o-Carros-Cl-ssicos/blob/main/poo_criando_classe_carro.ipynb\" target=\"_parent\"><img src=\"https://colab.research.google.com/assets/colab-badge.svg\" alt=\"Open In Colab\"/></a>"
      ]
    },
    {
      "cell_type": "code",
      "source": [
        "# criar classe computador\n",
        "class Computador:\n",
        "  def __init__(self, marca, memoria):\n",
        "    self.marca = marca\n",
        "    self.memoria = memoria\n",
        "\n",
        "# métodos da classe\n",
        "\n",
        "  def Ligar(self):\n",
        "    print('Estou ligando PIPIPI')\n",
        "\n",
        "  def Desligar(self):\n",
        "    print('É só isso, não tem mais jeito. Acabou! Boa sorte!')\n",
        "\n",
        "  def ExibirInformacoesDesteComputador(self):\n",
        "    print(self.marca, self.memoria)\n",
        "\n",
        "# instânciar uma classe\n",
        "\n",
        "computador1 = Computador('Asus', '16gb')\n",
        "\n",
        "computador1.Ligar()\n",
        "computador1.Desligar()\n",
        "computador1.ExibirInformacoesDesteComputador()"
      ],
      "metadata": {
        "colab": {
          "base_uri": "https://localhost:8080/"
        },
        "id": "2i3ZHoBr0U92",
        "outputId": "ec9c633f-4f5a-4b67-f4e5-8822b6670493"
      },
      "execution_count": 9,
      "outputs": [
        {
          "output_type": "stream",
          "name": "stdout",
          "text": [
            "Estou ligando PIPIPI\n",
            "É só isso, não tem mais jeito. Acabou! Boa sorte!\n",
            "Asus 16gb\n"
          ]
        }
      ]
    }
  ]
}